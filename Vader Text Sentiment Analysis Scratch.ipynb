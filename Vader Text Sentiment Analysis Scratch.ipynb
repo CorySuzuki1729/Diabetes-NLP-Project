{
 "cells": [
  {
   "cell_type": "code",
   "execution_count": 14,
   "id": "6425d6a9",
   "metadata": {},
   "outputs": [
    {
     "name": "stdout",
     "output_type": "stream",
     "text": [
      "Collecting vaderSentiment\n",
      "  Obtaining dependency information for vaderSentiment from https://files.pythonhosted.org/packages/76/fc/310e16254683c1ed35eeb97386986d6c00bc29df17ce280aed64d55537e9/vaderSentiment-3.3.2-py2.py3-none-any.whl.metadata\n",
      "  Downloading vaderSentiment-3.3.2-py2.py3-none-any.whl.metadata (572 bytes)\n",
      "Requirement already satisfied: requests in c:\\users\\coryg\\anaconda3\\lib\\site-packages (from vaderSentiment) (2.31.0)\n",
      "Requirement already satisfied: charset-normalizer<4,>=2 in c:\\users\\coryg\\anaconda3\\lib\\site-packages (from requests->vaderSentiment) (2.0.4)\n",
      "Requirement already satisfied: idna<4,>=2.5 in c:\\users\\coryg\\anaconda3\\lib\\site-packages (from requests->vaderSentiment) (3.4)\n",
      "Requirement already satisfied: urllib3<3,>=1.21.1 in c:\\users\\coryg\\anaconda3\\lib\\site-packages (from requests->vaderSentiment) (1.26.16)\n",
      "Requirement already satisfied: certifi>=2017.4.17 in c:\\users\\coryg\\anaconda3\\lib\\site-packages (from requests->vaderSentiment) (2023.7.22)\n",
      "Using cached vaderSentiment-3.3.2-py2.py3-none-any.whl (125 kB)\n",
      "Installing collected packages: vaderSentiment\n",
      "Successfully installed vaderSentiment-3.3.2\n"
     ]
    }
   ],
   "source": [
    "!pip install vaderSentiment"
   ]
  },
  {
   "cell_type": "code",
   "execution_count": 13,
   "id": "f05d0466",
   "metadata": {},
   "outputs": [
    {
     "name": "stdout",
     "output_type": "stream",
     "text": [
      "      good look actual data see diabetes trend sinc around 1960 increas corn syrup seem correl sweeten need look refin carb refin wheat exampl  \\\n",
      "0      got email titl diabetes fruit immedi thought f...                                                                                         \n",
      "1      carnivor best pre diabetes a1c 54 watch youtub...                                                                                         \n",
      "2                 awesom win game make blood sugar spike                                                                                         \n",
      "3      your new favorit player didnt know t1d also ty...                                                                                         \n",
      "4                            awww cute stop got diabetes                                                                                         \n",
      "...                                                  ...                                                                                         \n",
      "32041                                      date rang max                                                                                         \n",
      "32042                        includ geographi unit state                                                                                         \n",
      "32043                              theme 113 person narr                                                                                         \n",
      "32044                             includ languag english                                                                                         \n",
      "32045                  jan 01 2024 034349 gmt500 newyork                                                                                         \n",
      "\n",
      "      Unnamed: 1 Unnamed: 2  Twitter  Replies and Comments   No  No Media  \\\n",
      "0            NaN        NaN  Twitter              Original   No  No Media   \n",
      "1            NaN        NaN  Twitter  Replies and Comments   No  No Media   \n",
      "2            NaN        NaN  Twitter              Original   No     Video   \n",
      "3            NaN        NaN  Twitter  Replies and Comments   No  No Media   \n",
      "4            NaN        NaN  Twitter  Replies and Comments   No     Image   \n",
      "...          ...        ...      ...                   ...  ...       ...   \n",
      "32041        NaN        NaN      NaN                   NaN  NaN       NaN   \n",
      "32042        NaN        NaN      NaN                   NaN  NaN       NaN   \n",
      "32043        NaN        NaN      NaN                   NaN  NaN       NaN   \n",
      "32044        NaN        NaN      NaN                   NaN  NaN       NaN   \n",
      "32045        NaN        NaN      NaN                   NaN  NaN       NaN   \n",
      "\n",
      "      http://twitter.com/1realBrain/statuses/1688548328189935616  \\\n",
      "0      http://twitter.com/autisticllywill/statuses/16...           \n",
      "1      http://twitter.com/MarineMills1984/statuses/17...           \n",
      "2      http://twitter.com/Grand7Dad/statuses/17354598...           \n",
      "3      http://twitter.com/JackSmiley006/statuses/1672...           \n",
      "4      http://twitter.com/giginkx/statuses/1638671602...           \n",
      "...                                                  ...           \n",
      "32041                                                NaN           \n",
      "32042                                                NaN           \n",
      "32043                                                NaN           \n",
      "32044                                                NaN           \n",
      "32045                                                NaN           \n",
      "\n",
      "                                              Unnamed: 8  twitter.com  ...  \\\n",
      "0                                                    NaN  twitter.com  ...   \n",
      "1                                                    NaN  twitter.com  ...   \n",
      "2      https://video.twimg.com/ext_tw_video/173545981...  twitter.com  ...   \n",
      "3                                                    NaN  twitter.com  ...   \n",
      "4         http://pbs.twimg.com/media/Fr27I6PWcAI44RQ.jpg  twitter.com  ...   \n",
      "...                                                  ...          ...  ...   \n",
      "32041                                                NaN          NaN  ...   \n",
      "32042                                                NaN          NaN  ...   \n",
      "32043                                                NaN          NaN  ...   \n",
      "32044                                                NaN          NaN  ...   \n",
      "32045                                                NaN          NaN  ...   \n",
      "\n",
      "      Unnamed: 51 Unnamed: 52 Unnamed: 53 Unnamed: 54 Unnamed: 55 Unnamed: 56  \\\n",
      "0             NaN         NaN         NaN         NaN         NaN         NaN   \n",
      "1             NaN         NaN         NaN         NaN         NaN         NaN   \n",
      "2             NaN         NaN         NaN         NaN         NaN         NaN   \n",
      "3             NaN         NaN         NaN         NaN         NaN         NaN   \n",
      "4             NaN         NaN         NaN         NaN         NaN         NaN   \n",
      "...           ...         ...         ...         ...         ...         ...   \n",
      "32041         NaN         NaN         NaN         NaN         NaN         NaN   \n",
      "32042         NaN         NaN         NaN         NaN         NaN         NaN   \n",
      "32043         NaN         NaN         NaN         NaN         NaN         NaN   \n",
      "32044         NaN         NaN         NaN         NaN         NaN         NaN   \n",
      "32045         NaN         NaN         NaN         NaN         NaN         NaN   \n",
      "\n",
      "      Unnamed: 57 Unnamed: 58 Unnamed: 59 Unnamed: 60  \n",
      "0             NaN         NaN         NaN         NaN  \n",
      "1             NaN         NaN         NaN         NaN  \n",
      "2             NaN         NaN         NaN         NaN  \n",
      "3             NaN         NaN         NaN         NaN  \n",
      "4             NaN         NaN         NaN         NaN  \n",
      "...           ...         ...         ...         ...  \n",
      "32041         NaN         NaN         NaN         NaN  \n",
      "32042         NaN         NaN         NaN         NaN  \n",
      "32043         NaN         NaN         NaN         NaN  \n",
      "32044         NaN         NaN         NaN         NaN  \n",
      "32045         NaN         NaN         NaN         NaN  \n",
      "\n",
      "[32046 rows x 61 columns]\n"
     ]
    }
   ],
   "source": [
    "import pandas as pd\n",
    "\n",
    "my_data = pd.read_excel(\"C:/Users/coryg/Downloads/dropped_rows_iqr3.xlsx\")\n",
    "\n",
    "print(my_data)"
   ]
  },
  {
   "cell_type": "code",
   "execution_count": 35,
   "id": "c552a934",
   "metadata": {},
   "outputs": [
    {
     "name": "stdout",
     "output_type": "stream",
     "text": [
      "Overall sentiment dictionary is :  {'neg': 0.0, 'neu': 1.0, 'pos': 0.0, 'compound': 0.0}\n",
      "sentence was rated as  0.0 % Negative\n",
      "sentence was rated as  100.0 % Neutral\n",
      "sentence was rated as  0.0 % Positive\n",
      "Sentence Overall Rated As Neutral\n"
     ]
    }
   ],
   "source": [
    "from vaderSentiment.vaderSentiment import SentimentIntensityAnalyzer\n",
    " \n",
    "# function to print sentiments\n",
    "# of the sentence.\n",
    "def sentiment_scores(sentence):\n",
    " \n",
    "    # Create a SentimentIntensityAnalyzer object.\n",
    "    sid_obj = SentimentIntensityAnalyzer()\n",
    " \n",
    "    # polarity_scores method of SentimentIntensityAnalyzer\n",
    "    # object gives a sentiment dictionary.\n",
    "    # which contains pos, neg, neu, and compound scores.\n",
    "    sentiment_dict = sid_obj.polarity_scores(sentence)\n",
    "     \n",
    "    print(\"Overall sentiment dictionary is : \", sentiment_dict)\n",
    "    print(\"sentence was rated as \", sentiment_dict['neg']*100, \"% Negative\")\n",
    "    print(\"sentence was rated as \", sentiment_dict['neu']*100, \"% Neutral\")\n",
    "    print(\"sentence was rated as \", sentiment_dict['pos']*100, \"% Positive\")\n",
    " \n",
    "    print(\"Sentence Overall Rated As\", end = \" \")\n",
    " \n",
    "    # decide sentiment as positive, negative and neutral\n",
    "    if sentiment_dict['compound'] >= 0.05 :\n",
    "        print(\"Positive\")\n",
    " \n",
    "    elif sentiment_dict['compound'] <= - 0.05 :\n",
    "        print(\"Negative\")\n",
    " \n",
    "    else :\n",
    "        print(\"Neutral\")\n",
    " \n",
    " \n",
    "   \n",
    "# Driver code\n",
    "sentence = my_data[\"\"]\n",
    " \n",
    "    # function calling\n",
    "sentiment_scores(sentence)\n",
    "\n",
    "#Estefany's idea: Improve the sample space/dictionary by classifying more neutral words from public health as \n",
    "#leaning either more positive or negative.\n",
    "#Maybe use if else chains to assign specific words to certain sentiments.\n",
    "#dictionary = {\"scary\":10, \"expensive\":10, ...}"
   ]
  },
  {
   "cell_type": "code",
   "execution_count": null,
   "id": "eb762474",
   "metadata": {},
   "outputs": [],
   "source": []
  }
 ],
 "metadata": {
  "kernelspec": {
   "display_name": "Python 3 (ipykernel)",
   "language": "python",
   "name": "python3"
  },
  "language_info": {
   "codemirror_mode": {
    "name": "ipython",
    "version": 3
   },
   "file_extension": ".py",
   "mimetype": "text/x-python",
   "name": "python",
   "nbconvert_exporter": "python",
   "pygments_lexer": "ipython3",
   "version": "3.11.5"
  }
 },
 "nbformat": 4,
 "nbformat_minor": 5
}
